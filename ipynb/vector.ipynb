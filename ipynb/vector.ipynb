{
  "cells": [
    {
      "cell_type": "code",
      "execution_count": 4,
      "metadata": {
        "id": "h5_JT1D55Mc9"
      },
      "outputs": [],
      "source": [
        "import numpy as np"
      ]
    },
    {
      "cell_type": "code",
      "execution_count": 2,
      "metadata": {
        "colab": {
          "base_uri": "https://localhost:8080/"
        },
        "id": "_qq_A60K5TiY",
        "outputId": "d388450f-1a4c-40dd-ae20-33d11c3b10bf"
      },
      "outputs": [
        {
          "name": "stdout",
          "output_type": "stream",
          "text": [
            "[3 4]\n"
          ]
        }
      ],
      "source": [
        "a = np.array([3,4])\n",
        "print(a)"
      ]
    },
    {
      "cell_type": "code",
      "execution_count": 4,
      "metadata": {
        "colab": {
          "base_uri": "https://localhost:8080/"
        },
        "id": "B0Yf7FQA5Tr1",
        "outputId": "bea463ff-15c3-4a52-cce9-609c01e164e5"
      },
      "outputs": [
        {
          "data": {
            "text/plain": [
              "numpy.ndarray"
            ]
          },
          "execution_count": 4,
          "metadata": {},
          "output_type": "execute_result"
        }
      ],
      "source": [
        "type(a)"
      ]
    },
    {
      "cell_type": "code",
      "execution_count": 9,
      "metadata": {
        "colab": {
          "base_uri": "https://localhost:8080/"
        },
        "id": "HDT5cSUb5TvK",
        "outputId": "9c442839-ac8c-4252-c875-c65ff8c8d1e1"
      },
      "outputs": [
        {
          "data": {
            "text/plain": [
              "2"
            ]
          },
          "execution_count": 9,
          "metadata": {},
          "output_type": "execute_result"
        }
      ],
      "source": [
        "len(a)"
      ]
    },
    {
      "cell_type": "code",
      "execution_count": 10,
      "metadata": {
        "colab": {
          "base_uri": "https://localhost:8080/"
        },
        "id": "EBRSTvub5TyH",
        "outputId": "022b2cb2-b553-40fa-cc13-d749da26de05"
      },
      "outputs": [
        {
          "data": {
            "text/plain": [
              "3"
            ]
          },
          "execution_count": 10,
          "metadata": {},
          "output_type": "execute_result"
        }
      ],
      "source": [
        "a[0]"
      ]
    },
    {
      "cell_type": "code",
      "execution_count": 11,
      "metadata": {
        "colab": {
          "base_uri": "https://localhost:8080/"
        },
        "id": "TX04scUM5rEm",
        "outputId": "753583ff-a183-4529-ab4c-9639e1bc7fb2"
      },
      "outputs": [
        {
          "data": {
            "text/plain": [
              "4"
            ]
          },
          "execution_count": 11,
          "metadata": {},
          "output_type": "execute_result"
        }
      ],
      "source": [
        "a[1]"
      ]
    },
    {
      "cell_type": "code",
      "execution_count": 12,
      "metadata": {
        "colab": {
          "base_uri": "https://localhost:8080/"
        },
        "id": "X2e12CaE5rHR",
        "outputId": "ef3d500b-d82b-4a08-859c-e7cd665517ad"
      },
      "outputs": [
        {
          "name": "stdout",
          "output_type": "stream",
          "text": [
            "[7 2]\n"
          ]
        }
      ],
      "source": [
        "b = np.array([7,2])\n",
        "print(b)"
      ]
    },
    {
      "cell_type": "code",
      "execution_count": 13,
      "metadata": {
        "colab": {
          "base_uri": "https://localhost:8080/"
        },
        "id": "QTxE8qq65rKO",
        "outputId": "10719b8d-c26f-4781-d0b4-a103bee35a3d"
      },
      "outputs": [
        {
          "name": "stdout",
          "output_type": "stream",
          "text": [
            "[3 4] [7 2]\n"
          ]
        }
      ],
      "source": [
        "print(a,b)"
      ]
    },
    {
      "cell_type": "code",
      "execution_count": 14,
      "metadata": {
        "colab": {
          "base_uri": "https://localhost:8080/"
        },
        "id": "DiEy_-CD55t2",
        "outputId": "5c0bbdce-3067-48bc-e82b-10b6b3d5619c"
      },
      "outputs": [
        {
          "data": {
            "text/plain": [
              "array([10,  6])"
            ]
          },
          "execution_count": 14,
          "metadata": {},
          "output_type": "execute_result"
        }
      ],
      "source": [
        "a + b"
      ]
    },
    {
      "cell_type": "code",
      "execution_count": 15,
      "metadata": {
        "colab": {
          "base_uri": "https://localhost:8080/"
        },
        "id": "mnppc_Mx55xC",
        "outputId": "c47aba01-9d3c-48a9-c692-7c57070fd9e1"
      },
      "outputs": [
        {
          "data": {
            "text/plain": [
              "array([10,  6])"
            ]
          },
          "execution_count": 15,
          "metadata": {},
          "output_type": "execute_result"
        }
      ],
      "source": [
        "np.add(a,b)"
      ]
    },
    {
      "cell_type": "code",
      "execution_count": 16,
      "metadata": {
        "colab": {
          "base_uri": "https://localhost:8080/"
        },
        "id": "9t2szD286Er3",
        "outputId": "223e9ea3-4615-425f-cd75-d135b91f793e"
      },
      "outputs": [
        {
          "data": {
            "text/plain": [
              "array([-4,  2])"
            ]
          },
          "execution_count": 16,
          "metadata": {},
          "output_type": "execute_result"
        }
      ],
      "source": [
        "a - b"
      ]
    },
    {
      "cell_type": "code",
      "execution_count": 17,
      "metadata": {
        "colab": {
          "base_uri": "https://localhost:8080/"
        },
        "id": "zUWvwjUh6EvE",
        "outputId": "cfe8f21e-56bb-4a24-804c-9d58fd7bdcb4"
      },
      "outputs": [
        {
          "data": {
            "text/plain": [
              "array([21,  8])"
            ]
          },
          "execution_count": 17,
          "metadata": {},
          "output_type": "execute_result"
        }
      ],
      "source": [
        "a * b"
      ]
    },
    {
      "cell_type": "code",
      "execution_count": 18,
      "metadata": {
        "colab": {
          "base_uri": "https://localhost:8080/"
        },
        "id": "l_0lDtSb6Eyi",
        "outputId": "e1cbc395-c5a7-4a50-a779-d683409c3f97"
      },
      "outputs": [
        {
          "data": {
            "text/plain": [
              "array([21,  8])"
            ]
          },
          "execution_count": 18,
          "metadata": {},
          "output_type": "execute_result"
        }
      ],
      "source": [
        "np.multiply(a,b)"
      ]
    },
    {
      "cell_type": "code",
      "execution_count": 19,
      "metadata": {
        "colab": {
          "base_uri": "https://localhost:8080/"
        },
        "id": "kujadWQV550A",
        "outputId": "ddcf7d45-da4e-4332-dad6-cc4a1ce93fee"
      },
      "outputs": [
        {
          "name": "stdout",
          "output_type": "stream",
          "text": [
            "[3 4]\n"
          ]
        }
      ],
      "source": [
        "print(a)"
      ]
    },
    {
      "cell_type": "code",
      "execution_count": 20,
      "metadata": {
        "colab": {
          "base_uri": "https://localhost:8080/"
        },
        "id": "lC8Abtcm6SZa",
        "outputId": "1bd3dd70-706a-477a-b98d-c229dfa843d8"
      },
      "outputs": [
        {
          "data": {
            "text/plain": [
              "array([6, 8])"
            ]
          },
          "execution_count": 20,
          "metadata": {},
          "output_type": "execute_result"
        }
      ],
      "source": [
        "np.dot(2,a)"
      ]
    },
    {
      "cell_type": "code",
      "execution_count": 23,
      "metadata": {
        "colab": {
          "base_uri": "https://localhost:8080/"
        },
        "id": "2ybzixjX6h7o",
        "outputId": "0a95e882-85d1-4c4e-9c75-457eb707b20f"
      },
      "outputs": [
        {
          "name": "stdout",
          "output_type": "stream",
          "text": [
            "[3 4]\n",
            "[7 2]\n"
          ]
        }
      ],
      "source": [
        "print(a)\n",
        "print(b)"
      ]
    },
    {
      "cell_type": "code",
      "execution_count": 22,
      "metadata": {
        "colab": {
          "base_uri": "https://localhost:8080/"
        },
        "id": "L5QiE-c16Scn",
        "outputId": "11f8a4a9-8282-4c8a-c884-cf3b9704eae7"
      },
      "outputs": [
        {
          "data": {
            "text/plain": [
              "29"
            ]
          },
          "execution_count": 22,
          "metadata": {},
          "output_type": "execute_result"
        }
      ],
      "source": [
        "np.dot(a,b)"
      ]
    },
    {
      "cell_type": "code",
      "execution_count": 26,
      "metadata": {
        "colab": {
          "base_uri": "https://localhost:8080/"
        },
        "id": "edUPJ6RE68R1",
        "outputId": "5dcbee7e-8293-49bb-8aa4-92e540f11141"
      },
      "outputs": [
        {
          "name": "stdout",
          "output_type": "stream",
          "text": [
            "[3 4]\n"
          ]
        }
      ],
      "source": [
        "print(a)"
      ]
    },
    {
      "cell_type": "code",
      "execution_count": 3,
      "metadata": {
        "colab": {
          "base_uri": "https://localhost:8080/"
        },
        "id": "Dlg5t_iX6SfU",
        "outputId": "6cc1c2fc-d8a0-4fbe-ed97-a0c1cf51bf3c"
      },
      "outputs": [
        {
          "data": {
            "text/plain": [
              "5.0"
            ]
          },
          "execution_count": 3,
          "metadata": {},
          "output_type": "execute_result"
        }
      ],
      "source": [
        "# Norm\n",
        "(3**2 + 4**2) **(1/2)"
      ]
    },
    {
      "cell_type": "code",
      "execution_count": 27,
      "metadata": {
        "colab": {
          "base_uri": "https://localhost:8080/"
        },
        "id": "pFDBttnD65QV",
        "outputId": "a2e6ca54-d594-4cea-9982-a77007a65e26"
      },
      "outputs": [
        {
          "data": {
            "text/plain": [
              "5.0"
            ]
          },
          "execution_count": 27,
          "metadata": {},
          "output_type": "execute_result"
        }
      ],
      "source": [
        "np.linalg.norm(a)"
      ]
    },
    {
      "cell_type": "code",
      "execution_count": 28,
      "metadata": {
        "colab": {
          "base_uri": "https://localhost:8080/"
        },
        "id": "sZamLj4l7FJa",
        "outputId": "144a27c5-2a95-4f9c-b316-81bd5b569810"
      },
      "outputs": [
        {
          "data": {
            "text/plain": [
              "3.7416573867739413"
            ]
          },
          "execution_count": 28,
          "metadata": {},
          "output_type": "execute_result"
        }
      ],
      "source": [
        "x = np.array([1,2,3])\n",
        "np.linalg.norm(x)"
      ]
    },
    {
      "cell_type": "code",
      "execution_count": 1,
      "metadata": {
        "id": "RBskBfkX7UGx"
      },
      "outputs": [
        {
          "name": "stderr",
          "output_type": "stream",
          "text": [
            "Matplotlib is building the font cache; this may take a moment.\n"
          ]
        }
      ],
      "source": [
        "import matplotlib.pyplot as plt"
      ]
    },
    {
      "cell_type": "code",
      "execution_count": 2,
      "metadata": {
        "colab": {
          "base_uri": "https://localhost:8080/",
          "height": 269
        },
        "id": "O9Clgui07ZAZ",
        "outputId": "74b9f1ac-2e7a-4cfa-851f-0fc30f69b440"
      },
      "outputs": [
        {
          "data": {
            "image/png": "[encoded data removed]",
            "text/plain": [
              "<Figure size 640x480 with 1 Axes>"
            ]
          },
          "metadata": {},
          "output_type": "display_data"
        }
      ],
      "source": [
        "plt.quiver(3,4,angles='xy',scale_units='xy',scale=1)\n",
        "plt.xlim(0,5)\n",
        "plt.ylim(0,5)\n",
        "plt.text(3,4,r'$\\vec{u}$',size=25);"
      ]
    },
    {
      "cell_type": "code",
      "execution_count": 5,
      "metadata": {
        "id": "ch8HzQ9oDi3e"
      },
      "outputs": [],
      "source": [
        "a = np.array([3,4])\n",
        "b = np.array([7,2])\n",
        "c = a + b"
      ]
    },
    {
      "cell_type": "code",
      "execution_count": 8,
      "metadata": {
        "colab": {
          "base_uri": "https://localhost:8080/",
          "height": 269
        },
        "id": "0q5N2kKU_bfA",
        "outputId": "6fb79746-e4a8-4e48-9380-b8fdb9ca3c79"
      },
      "outputs": [
        {
          "data": {
            "image/png": "[encoded data removed]",
            "text/plain": [
              "<Figure size 640x480 with 1 Axes>"
            ]
          },
          "metadata": {},
          "output_type": "display_data"
        }
      ],
      "source": [
        "plt.quiver(a[0],a[1], angles='xy', scale_units='xy', scale=1)\n",
        "plt.quiver(b[0],b[1], angles='xy', scale_units='xy', scale=1)\n",
        "plt.quiver(c[0],c[1], angles='xy', scale_units='xy', scale=1, color='r')\n",
        "\n",
        "plt.xlim(0,11)\n",
        "plt.ylim(0,7)\n",
        "\n",
        "plt.text(a[0],a[1],r'$\\vec{A}$',size=15)\n",
        "plt.text(b[0],b[1],r'$\\vec{B}$',size=15);\n",
        "plt.text(c[0],c[1],r'$\\vec{C}$',size=15,c='r');"
      ]
    },
    {
      "cell_type": "code",
      "execution_count": 110,
      "metadata": {
        "colab": {
          "base_uri": "https://localhost:8080/",
          "height": 269
        },
        "id": "SiIg9ijDC_ev",
        "outputId": "43f7921a-77ca-4caa-9129-db08d228cf6b"
      },
      "outputs": [
        {
          "data": {
            "image/png": "[encoded data removed]",
            "text/plain": [
              "<Figure size 432x288 with 1 Axes>"
            ]
          },
          "metadata": {
            "needs_background": "light"
          },
          "output_type": "display_data"
        }
      ],
      "source": [
        "a = np.array([3,4])\n",
        "b = np.array([7,2])\n",
        "d = a - b\n",
        "\n",
        "plt.quiver(a[0],a[1], angles='xy', scale_units='xy', scale=1)\n",
        "plt.quiver(b[0],b[1], angles='xy', scale_units='xy', scale=1)\n",
        "plt.quiver(d[0],d[1], angles='xy', scale_units='xy', scale=1, color='r')\n",
        "\n",
        "plt.xlim(-5,9)\n",
        "plt.ylim(-1,5)\n",
        "\n",
        "plt.axvline(x=0 ,color='grey')\n",
        "plt.axhline(y=0 ,color='grey')\n",
        "\n",
        "plt.text(a[0],a[1],r'$\\vec{A}$',size=15)\n",
        "plt.text(b[0],b[1],r'$\\vec{B}$',size=15);\n",
        "plt.text(d[0],d[1],r'$\\vec{D}$',size=15,c='r');"
      ]
    }
  ],
  "metadata": {
    "colab": {
      "provenance": []
    },
    "kernelspec": {
      "display_name": "murph_env",
      "language": "python",
      "name": "python3"
    },
    "language_info": {
      "codemirror_mode": {
        "name": "ipython",
        "version": 3
      },
      "file_extension": ".py",
      "mimetype": "text/x-python",
      "name": "python",
      "nbconvert_exporter": "python",
      "pygments_lexer": "ipython3",
      "version": "3.13.0"
    }
  },
  "nbformat": 4,
  "nbformat_minor": 0
}
